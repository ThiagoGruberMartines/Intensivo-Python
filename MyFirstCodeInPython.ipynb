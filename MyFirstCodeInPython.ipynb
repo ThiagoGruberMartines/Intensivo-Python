{
 "cells": [
  {
   "cell_type": "code",
   "execution_count": 4,
   "id": "85338269",
   "metadata": {},
   "outputs": [
    {
     "name": "stdout",
     "output_type": "stream",
     "text": [
      "Hello World!\n",
      "Esse é meu primeiro código em python...\n"
     ]
    }
   ],
   "source": [
    "print(\"Hello World!\")\n",
    "print('Esse é meu primeiro código em python...')"
   ]
  },
  {
   "cell_type": "markdown",
   "id": "9dc306b7",
   "metadata": {},
   "source": [
    "Aqui estou escrevendo um texto no formato Markdown. E também estou escrevendo isso em outra Célula."
   ]
  },
  {
   "cell_type": "code",
   "execution_count": 5,
   "id": "c99b2261",
   "metadata": {},
   "outputs": [
    {
     "name": "stdout",
     "output_type": "stream",
     "text": [
      "E aqui estou usando código python novamente.\n"
     ]
    }
   ],
   "source": [
    "print(\"E aqui estou usando código python novamente.\")"
   ]
  }
 ],
 "metadata": {
  "kernelspec": {
   "display_name": "Python 3 (ipykernel)",
   "language": "python",
   "name": "python3"
  },
  "language_info": {
   "codemirror_mode": {
    "name": "ipython",
    "version": 3
   },
   "file_extension": ".py",
   "mimetype": "text/x-python",
   "name": "python",
   "nbconvert_exporter": "python",
   "pygments_lexer": "ipython3",
   "version": "3.9.13"
  }
 },
 "nbformat": 4,
 "nbformat_minor": 5
}
