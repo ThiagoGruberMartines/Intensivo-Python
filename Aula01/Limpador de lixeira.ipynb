{
 "cells": [
  {
   "cell_type": "markdown",
   "id": "d8522155",
   "metadata": {},
   "source": [
    "OBS: Esse código é apenas alguns treinamentos e testes após a aula."
   ]
  },
  {
   "cell_type": "code",
   "execution_count": 8,
   "id": "47c8bd08",
   "metadata": {},
   "outputs": [],
   "source": [
    "# Aqui serão importados todas as bibliotecas necessárias\n",
    "import pyautogui\n",
    "import time"
   ]
  },
  {
   "cell_type": "code",
   "execution_count": 9,
   "id": "d1bb6dee",
   "metadata": {},
   "outputs": [],
   "source": [
    "# Esse programa vai limpar a lixeira\n",
    "pyautogui.press(\"win\")\n",
    "pyautogui.write(\"lixeira\")\n",
    "pyautogui.press(\"enter\")\n",
    "\n",
    "time.sleep(2)\n",
    "\n",
    "pyautogui.hotkey(\"ctrl\", \"a\")\n",
    "pyautogui.hotkey(\"shift\", \"del\")\n",
    "pyautogui.press(\"enter\")\n",
    "\n",
    "time.sleep(2)\n",
    "\n",
    "pyautogui.hotkey(\"ctrl\", \"w\")"
   ]
  },
  {
   "cell_type": "code",
   "execution_count": 10,
   "id": "c4378bac",
   "metadata": {},
   "outputs": [
    {
     "data": {
      "text/plain": [
       "Point(x=790, y=753)"
      ]
     },
     "execution_count": 10,
     "metadata": {},
     "output_type": "execute_result"
    }
   ],
   "source": [
    "# Esse código aqui será apenas utilizado para capturar a posição do cursor\n",
    "time.sleep(5)\n",
    "pyautogui.position()"
   ]
  },
  {
   "cell_type": "code",
   "execution_count": null,
   "id": "61fd7e7e",
   "metadata": {},
   "outputs": [],
   "source": []
  }
 ],
 "metadata": {
  "kernelspec": {
   "display_name": "Python 3 (ipykernel)",
   "language": "python",
   "name": "python3"
  },
  "language_info": {
   "codemirror_mode": {
    "name": "ipython",
    "version": 3
   },
   "file_extension": ".py",
   "mimetype": "text/x-python",
   "name": "python",
   "nbconvert_exporter": "python",
   "pygments_lexer": "ipython3",
   "version": "3.9.13"
  }
 },
 "nbformat": 4,
 "nbformat_minor": 5
}
